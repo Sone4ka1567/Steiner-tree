{
  "nbformat": 4,
  "nbformat_minor": 0,
  "metadata": {
    "colab": {
      "provenance": []
    },
    "kernelspec": {
      "name": "python3",
      "display_name": "Python 3"
    },
    "language_info": {
      "name": "python"
    }
  },
  "cells": [
    {
      "cell_type": "code",
      "execution_count": 1,
      "metadata": {
        "id": "-Q3DiCYXu8F9"
      },
      "outputs": [],
      "source": [
        "import matplotlib\n",
        "import matplotlib.pyplot as plt\n",
        "import seaborn as sns\n",
        "import numpy as np\n",
        "import networkx as nx\n",
        "import scipy.stats as sps\n",
        "\n",
        "from scipy.spatial import Delaunay\n",
        "from networkx.algorithms.tree.mst import minimum_spanning_tree"
      ]
    },
    {
      "cell_type": "code",
      "source": [
        "def emst(points, M, r=0, show_delaunay=False, show_mst=False):\n",
        "  G = nx.Graph()\n",
        "  for i in range(len(points)):\n",
        "      G.add_node(i, pos = points[i])\n",
        "\n",
        "  ways = calc_ways(G, r)\n",
        "  print(ways)\n",
        "  try:\n",
        "    tri = Delaunay(points)\n",
        "    for triangle in tri.simplices:\n",
        "      for i in range(3):\n",
        "        cnt = ways[triangle[i]][triangle[(i+1)%3]]\n",
        "        cnt = min(cnt, M)\n",
        "        norm = np.linalg.norm(points[triangle[i]] - points[triangle[(i+1)%3]])\n",
        "\n",
        "        G.add_edge(triangle[i], triangle[(i+1)%3], weight = cnt * norm)\n",
        "  except:\n",
        "    print(\"problems with Delaunay\")\n",
        "    for i in range(len(points)):\n",
        "      for j in range(i + 1, len(points)):\n",
        "        cnt = ways[i][j]\n",
        "        cnt = min(cnt, M)\n",
        "        norm = np.linalg.norm(points[i]-points[j])\n",
        "    \n",
        "        G.add_edge(i, j, weight = cnt * norm)\n",
        "  finally:\n",
        "    pos=nx.get_node_attributes(G,'pos')\n",
        "    if(show_delaunay):\n",
        "      nx.draw(G, pos, with_labels = True)\n",
        "      plt.show()\n",
        "    G_mst = minimum_spanning_tree(G, algorithm='kruskal')\n",
        "    if(show_mst):\n",
        "      nx.draw(G_mst, pos, with_labels=True)\n",
        "      plt.show()\n",
        "  return G_mst  "
      ],
      "metadata": {
        "id": "CwqyTnrryz8B"
      },
      "execution_count": 51,
      "outputs": []
    },
    {
      "cell_type": "code",
      "source": [
        "def complete_graph(points, show=True):\n",
        "  G = nx.Graph()\n",
        "  for i in range(len(points)):\n",
        "    G.add_node(i, pos = points[i])\n",
        "  for i in range(len(points)):\n",
        "    for j in range(i + 1, len(points)):\n",
        "      G.add_edge(i, j, weight = np.linalg.norm(points[i]-points[j]))\n",
        "  pos = nx.get_node_attributes(G,'pos')\n",
        "  if(show):\n",
        "    nx.draw(G, pos, with_labels = True)\n",
        "    plt.show()\n",
        "  return G"
      ],
      "metadata": {
        "id": "usrzDYbz5LoG"
      },
      "execution_count": 4,
      "outputs": []
    },
    {
      "cell_type": "code",
      "source": [
        "def calc_ways(G, r=0):\n",
        "  points = list(G.nodes)\n",
        "  G_c = complete_graph(points, False)\n",
        "  edges = np.zeros((len(points), len(points)))\n",
        "  for v in points:\n",
        "    path = nx.bellman_ford_path(G_c, r, v)\n",
        "    prev = path[0]\n",
        "    for i in range(1, len(path)):\n",
        "      edges[prev][path[i]] += 1\n",
        "      edges[path[i]][prev] += 1\n",
        "      prev = path[i]\n",
        "  return edges"
      ],
      "metadata": {
        "id": "81qzZ8mD0Oic"
      },
      "execution_count": 29,
      "outputs": []
    },
    {
      "cell_type": "code",
      "source": [
        "def get_weight(G):\n",
        "  sum = 0\n",
        "  for i in G.edges.data('weight'):\n",
        "    sum += i[2]\n",
        "  print(f'Weight = {sum}')\n",
        "  return sum"
      ],
      "metadata": {
        "id": "oRHAgNaKzHnZ"
      },
      "execution_count": 6,
      "outputs": []
    },
    {
      "cell_type": "code",
      "source": [
        "def draw_points(points):\n",
        "  G = nx.Graph()\n",
        "  for i in range(len(points)):\n",
        "    G.add_node(i, pos = points[i])\n",
        "  pos=nx.get_node_attributes(G,'pos')\n",
        "  nx.draw(G, pos, with_labels = True)\n",
        "  plt.show()"
      ],
      "metadata": {
        "id": "3BqTuhOEzyvj"
      },
      "execution_count": 7,
      "outputs": []
    },
    {
      "cell_type": "markdown",
      "source": [
        "# **Example**"
      ],
      "metadata": {
        "id": "NtPQ2H-O8xo1"
      }
    },
    {
      "cell_type": "code",
      "source": [
        "points_V = np.array([[0, 0], [1, 0], [1/2,np.sqrt(3)/2], [1/2,np.sqrt(3)/6]])\n",
        "print(\"graph\")\n",
        "weight_v = get_weight(emst(points_V, M=2, r=0, show_delaunay=True, show_mst=True))\n",
        "\n",
        "\n",
        "print(\"\\nV_0\")\n",
        "points_V_0 = np.array([[0, 0], [1, 0], [1/2,np.sqrt(3)/2]])\n",
        "draw_points(points_V_0)\n",
        "weight_v_0 = get_weight(emst(points_V_0, M=2, r=0, show_delaunay=False, show_mst=True))\n",
        "print(\"emst\\n\")\n"
      ],
      "metadata": {
        "colab": {
          "base_uri": "https://localhost:8080/",
          "height": 1000
        },
        "id": "pU5w4voY6HOr",
        "outputId": "16041d97-d845-4838-e735-37f03de5c200"
      },
      "execution_count": 48,
      "outputs": [
        {
          "output_type": "stream",
          "name": "stdout",
          "text": [
            "graph\n"
          ]
        },
        {
          "output_type": "display_data",
          "data": {
            "text/plain": [
              "<Figure size 432x288 with 1 Axes>"
            ],
            "image/png": "[encoded data removed]"
          },
          "metadata": {}
        },
        {
          "output_type": "display_data",
          "data": {
            "text/plain": [
              "<Figure size 432x288 with 1 Axes>"
            ],
            "image/png": "[encoded data removed]"
          },
          "metadata": {}
        },
        {
          "output_type": "stream",
          "name": "stdout",
          "text": [
            "Weight = 0.5773502691896257\n",
            "\n",
            "V_0\n"
          ]
        },
        {
          "output_type": "display_data",
          "data": {
            "text/plain": [
              "<Figure size 432x288 with 1 Axes>"
            ],
            "image/png": "[encoded data removed]"
          },
          "metadata": {}
        },
        {
          "output_type": "display_data",
          "data": {
            "text/plain": [
              "<Figure size 432x288 with 1 Axes>"
            ],
            "image/png": "[encoded data removed]"
          },
          "metadata": {}
        },
        {
          "output_type": "stream",
          "name": "stdout",
          "text": [
            "Weight = 0.9999999999999999\n",
            "emst\n",
            "\n"
          ]
        }
      ]
    }
  ]
}